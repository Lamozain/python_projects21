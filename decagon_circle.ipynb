{
 "cells": [
  {
   "cell_type": "markdown",
   "metadata": {},
   "source": [
    "### 1. Given a string, return a new string that contains all the vowls of the given string first and its consonants last: in the same order, and same casing."
   ]
  },
  {
   "cell_type": "code",
   "execution_count": 43,
   "metadata": {},
   "outputs": [
    {
     "name": "stdout",
     "output_type": "stream",
     "text": [
      "Enter any word/phrase/clause/sentence>>> I am a  man\n",
      "Iaaammn\n"
     ]
    }
   ],
   "source": [
    "inp_str = input(\"Enter any word/phrase/clause/sentence>>> \")\n",
    "vow = ['A', 'E', 'I', 'O', 'U','a', 'e', 'i', 'o', 'u']\n",
    "cons = ['b', 'c', 'd', 'f', 'g', 'h', 'j', 'k', 'l', 'm', 'n', 'p', 'q', 'r', 's', 't', 'v', 'w', 'x', 'y', 'z']\n",
    "cons_u = []\n",
    "for i in cons:\n",
    "    cons_u.append(i.upper())\n",
    "vow_1 = ''\n",
    "cons_1 = ''\n",
    "for i in inp_str:\n",
    "    if i in vow:\n",
    "        vow_1 += i\n",
    "    elif i in cons or i in cons_u:\n",
    "        cons_1 += i\n",
    "print(vow_1 + cons_1)"
   ]
  },
  {
   "cell_type": "markdown",
   "metadata": {},
   "source": [
    "### 2. Given an array of scores between 0 and 100 for students in a course, write a function that returns the number of students that failed, passed, and were exceptional in the course."
   ]
  },
  {
   "cell_type": "code",
   "execution_count": 44,
   "metadata": {},
   "outputs": [],
   "source": [
    "def group_grades(A):\n",
    "    passed = []\n",
    "    failed = []\n",
    "    exceptional = []\n",
    "    for i in A:\n",
    "        if i < 50:\n",
    "            failed.append(i)\n",
    "        elif i >= 50:\n",
    "            passed.append(i)\n",
    "    for i in passed:\n",
    "        if i >= 70:\n",
    "            exceptional.append(i)\n",
    "    print(f'Of the {len(A)} students that sat the paper:\\n\\t{len(failed)} students failed\\n\\t{len(passed)} students passed\\n\\t{len(exceptional)} students were exceptional')\n",
    "    \n"
   ]
  },
  {
   "cell_type": "code",
   "execution_count": 46,
   "metadata": {},
   "outputs": [
    {
     "name": "stdout",
     "output_type": "stream",
     "text": [
      "Of the 14 students that sat the paper:\n",
      "\t5 students failed\n",
      "\t9 students passed\n",
      "\t3 students were exceptional\n"
     ]
    }
   ],
   "source": [
    "group_grades([0,34, 42, 45, 50, 39, 60, 60 ,62, 68, 69, 92, 100, 90])"
   ]
  },
  {
   "cell_type": "markdown",
   "metadata": {},
   "source": [
    "### 3. Given a string, write a function that counts the number of vowels and consonants in it and returns a result depending on the group with the higher count."
   ]
  },
  {
   "cell_type": "code",
   "execution_count": 47,
   "metadata": {},
   "outputs": [
    {
     "name": "stdout",
     "output_type": "stream",
     "text": [
      "Enter any word/phrase/clause/sentence>>> In an ancient city, the ancients only know the ancients while the young only know the young. shikena\n",
      "This string has more consonants than vowels. It has 52 consonants and 29 vowels\n"
     ]
    }
   ],
   "source": [
    "def vow_cons_counter():\n",
    "    inp_str1 = input(\"Enter any word/phrase/clause/sentence>>> \")\n",
    "    vow = ['a', 'e', 'i', 'o', 'u']\n",
    "    cons = ['b', 'c', 'd', 'f', 'g', 'h', 'j', 'k', 'l', 'm', 'n', 'p', 'q', 'r', 's', 't', 'v', 'w', 'x', 'y', 'z']\n",
    "    vow_1 = []\n",
    "    cons_1 = []\n",
    "    for i in inp_str1.lower():\n",
    "        if i in vow:\n",
    "            vow_1.append(i)\n",
    "        elif i in cons:\n",
    "            cons_1.append(i)\n",
    "    if len(vow_1) == len(cons_1):\n",
    "        print(f'This string has the same number of vowels as consonants. It has {len(vow_1)} vowels and {len(cons_1)} consonants')\n",
    "    elif len(vow_1) > len(cons_1):\n",
    "        print(f'This string has more vowels than consonants. It has {len(vow_1)} vowels and {len(cons_1)} consonants')\n",
    "    elif len(vow_1) < len(cons_1):\n",
    "        print(f'This string has more consonants than vowels. It has {len(cons_1)} consonants and {len(vow_1)} vowels')\n",
    "\n",
    "vow_cons_counter()"
   ]
  },
  {
   "cell_type": "markdown",
   "metadata": {},
   "source": [
    "### 4. Given an array of numbers, write a function that returns only the duplicated numbers in the array."
   ]
  },
  {
   "cell_type": "code",
   "execution_count": 49,
   "metadata": {},
   "outputs": [
    {
     "name": "stdout",
     "output_type": "stream",
     "text": [
      "The duplicated numbers are:  1 2 3 4 10 11\n"
     ]
    }
   ],
   "source": [
    "nums_given = [1,2,2,2,1,3,4,3,3,4,5,6,7,8,9,10,10,11,11]\n",
    "dup_num = []\n",
    "for i in nums_given:\n",
    "    if nums_given.count(i) > 1:\n",
    "        dup_num.append(i)\n",
    "print('The duplicated numbers are: ',*set(dup_num))"
   ]
  }
 ],
 "metadata": {
  "kernelspec": {
   "display_name": "Python 3.8.1 64-bit",
   "language": "python",
   "name": "python38164bit3f3e3f4298444f59ac4a2da49ab7ba9c"
  },
  "language_info": {
   "codemirror_mode": {
    "name": "ipython",
    "version": 3
   },
   "file_extension": ".py",
   "mimetype": "text/x-python",
   "name": "python",
   "nbconvert_exporter": "python",
   "pygments_lexer": "ipython3",
   "version": "3.8.1"
  }
 },
 "nbformat": 4,
 "nbformat_minor": 4
}
