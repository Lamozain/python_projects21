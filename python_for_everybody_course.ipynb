{
 "cells": [
  {
   "cell_type": "markdown",
   "metadata": {},
   "source": [
    "Getting the **largest number** from a list without using max()"
   ]
  },
  {
   "cell_type": "code",
   "execution_count": 21,
   "metadata": {
    "scrolled": false
   },
   "outputs": [
    {
     "name": "stdout",
     "output_type": "stream",
     "text": [
      "Start:  None\n",
      "45\n",
      "67\n",
      "100\n",
      "109\n",
      "125\n",
      "5000\n",
      "5001\n",
      "End:  5001\n"
     ]
    }
   ],
   "source": [
    "largest_so_far = None\n",
    "num_list = [23,45,67,12,45,39,100, 109, 125, 10, 5000, 1, 5001]\n",
    "print('Start: ', largest_so_far)\n",
    "for i in num_list:\n",
    "    if largest_so_far is None:\n",
    "        largest_so_far = i\n",
    "    elif i > largest_so_far:\n",
    "        largest_so_far = i\n",
    "        print(largest_so_far)\n",
    "print('End: ', largest_so_far)"
   ]
  },
  {
   "cell_type": "markdown",
   "metadata": {},
   "source": [
    "Getting the **smallest** number from a list without using min()"
   ]
  },
  {
   "cell_type": "code",
   "execution_count": 19,
   "metadata": {
    "scrolled": true
   },
   "outputs": [
    {
     "name": "stdout",
     "output_type": "stream",
     "text": [
      "Start:  None\n",
      "12\n",
      "10\n",
      "5\n",
      "1\n",
      "End:  1\n"
     ]
    }
   ],
   "source": [
    "smallest_so_far = None\n",
    "num_list = [23,45,67,12,45,39,100, 109, 125, 10, 5, 10, 1]\n",
    "print('Start: ', smallest_so_far)\n",
    "for i in num_list:\n",
    "    if smallest_so_far is None:\n",
    "        smallest_so_far = i\n",
    "    elif i < smallest_so_far:\n",
    "        smallest_so_far = i\n",
    "        print(smallest_so_far)\n",
    "print('End: ', smallest_so_far)"
   ]
  },
  {
   "cell_type": "code",
   "execution_count": 5,
   "metadata": {},
   "outputs": [
    {
     "name": "stdout",
     "output_type": "stream",
     "text": [
      "{'csev': 2, 'cwen': 4, 'xqlan': 2}\n"
     ]
    }
   ],
   "source": [
    "counts = {}\n",
    "names = ['csev', 'cwen', 'cwen', 'xqlan', 'csev','xqlan', 'cwen', 'cwen']\n",
    "for name in names:\n",
    "    counts[name] = counts.get(name, 0) + 1\n",
    "print(counts)"
   ]
  },
  {
   "cell_type": "code",
   "execution_count": 24,
   "metadata": {
    "scrolled": false
   },
   "outputs": [
    {
     "name": "stdout",
     "output_type": "stream",
     "text": [
      "Enter text>>> Introduction (TB) Susan’s case is not novel among school nurses. Her examinations have helped her to successfully identify the health needs of the students in her school. This is surely a good starting point. In recent times, public health has moved towards the use of the Ecological model. This model has been widely used in achieving health promotion and disease prevention. Families often make behavior changes that are channeled towards encouraging better health for the family members (Institute of Medicine, 2000). To fully understand the ecological model and proffer solution to the case at hand, two frameworks are important. They are the traditional model and the Institute of Medicine model.  The Traditional Model Part of the aim of pubic health is to prevent disease. This means the stopping of the occurrence of disease and injury, the stopping of the progression of a disease that had already occurred, and the stopping of the sequelae of disease and injury. To achieve this, the traditional model came to fore (Savage, Kub, & Groves, 2016). This model was introduced in 1950s and is still in use today. The traditional model is based on health prevention using the natural history of disease. The natural history of disease consists of three stages-the primary(stage of susceptibility), secondary(subclinical stage), and tertiary(clinical stage) (Gordon, 1987).  It includes three levels of prevention namely the primary, secondary, and tertiary. At the primary level, interventions are carried out to prevent the development of disease or injury. Those who are at risk of contracting the disease are usually focused at this stage. Activities will be carried out to promote healthy behavior among those people and also efforts will be made to build the ability of the individuals and the population to protect against the disease. At the secondary level, activities are geared towards the early detection and initiation of treatment for the disease in order to reduce disease-associated morbidity and mortality. Such interventions at this stage include screening, case-finding, contact-tracing among others. At the tertiary stage, the focus is on preventing disability and premature death (Centers for Disease Control and Prevention, 1992). It also includes the initiation of rehabilitation for those diagnosed with the disease. The benefits of this model are: it is useful when the natural history and the causal pathways for the development of the disease are well understood, and when the early clinical and sub-clinical signs are known and when the disease is actually preventable.  The IOM Model of Universal, Selected, and Indicated Prevention Models This model uses the continuum-of-health framework. It divides the continuum of care into three parts namely the prevention, treatment, and maintenance. The prevention part is further divided into three parts namely the universal, selected, and indicated. Universal prevention is applicable to the population as a whole and is not based on individual risk. Selective prevention are aimed at subsets of the population that has an increased level of risk for developing disease. Indicated prevention interventions are provided to populations with a high probability of developing the disease (Substance Abuse and Mental Health Services Administration, 2004).. It is useful in preventing mental disorders, drug, and substance abuse cases. This model has the benefit of classifying prevention interventions according to their target populations and as such helps provide clarity to the differing objectives of various interventions while matching the needs of the target population (DHSS, 2021).  What Susan should use I recommend that Susan use the IOM model. Since, through her observations she has been able to identify three subsets of the school population namely: the healthy, the overweight, and the obese. She should use universal prevention intervention approaches for the healthy subset of the population. The selective prevention intervention approaches can be used for the overweight subset of the population while the indicated prevention intervention approaches can be used for the obese subset of the population. This will help her use her resources and time more efficiently and effectively being the only nurse in the school. Conclusion The two main model for prevention interventions are the public health prevention model of primary, secondary and tertiary prevention and the Institute of Medicine model of universal, selective and indicated prevention. It is recommended that Susan use the IOM model in this case in order to ensure that she targets the different subgroups with the effective and specific interventions.  References  Savage, C.L., Kub, J.E., & Groves, S.L. (2016). Public Health Science and Nursing Practice: Caring for Populations (1 st ed.). Philadelphia, P.A.: FA Davis. (ISBN: 9780803621992)    Institute of Medicine. (2000). Promoting health: Intervention strategies from social and behavioral research. Washington, DC: National Academies Press. 6  Blue Cross and Blue Shield of Minnesota. (2006). Moving upstream: Working together to create healthier communities. Retrieved from http://www.docstoc.com/docs/120735357/Moving-Upstream-Working-To-Create-Healthier-Communities. 8  16. Centers for Disease Control and Prevention. (1992). A framework for assessing the effectiveness of disease and injury prevention. Morbidity and Mortality Weekly Report, 41(RR-3).  17. Gordon, R. (1987). An operational classification of disease prevention. In J.A. Steinberg & M.M. Silverman (Eds.), Preventing mental disorders (pp 20-26). Rockville, MD: Department of Health and Human Services.  18. Substance Abuse and Mental Health Services Administration. (2004). Clinical preventive services in substance abuse and mental health update: From science to services (DHHS Publication No. [SMA] 04-3906). U.S. Department of Health and Human Service, Rockville, MD. DHSS (2021). Prevention definitions and strategies. Retrieved 20 January, 2022 from https://dhss.delaware.gov/dhss/dsamh/files/pds.pdf\n",
      "The highest occuring word is \"the\" and it occurs 70 times\n"
     ]
    }
   ],
   "source": [
    "# Counting using dictionary\n",
    "r_text = input('Enter text>>> ')\n",
    "r_text1 = r_text.split()\n",
    "count_text = {}\n",
    "for i in r_text1:\n",
    "    count_text[i] = count_text.get(i, 0) + 1\n",
    "tups_list = list()\n",
    "for k,v in count_text.items():\n",
    "    tups_list.append((v,k))\n",
    "tups_list1 = sorted(tups_list, reverse=True)\n",
    "print(f'The highest occuring word is \"{tups_list1[0][1]}\" and it occurs {tups_list1[0][0]} times')\n",
    "\n",
    "#print(f'The total number of words is {len(r_text1)} and their individual counts is\\n{count_text}')"
   ]
  },
  {
   "cell_type": "code",
   "execution_count": 18,
   "metadata": {},
   "outputs": [
    {
     "name": "stdout",
     "output_type": "stream",
     "text": [
      "The total number of characters is:  6088\n"
     ]
    }
   ],
   "source": [
    "co = 0\n",
    "for i in r_text:\n",
    "    co += 1\n",
    "print(f'The total number of characters is: ', co)"
   ]
  },
  {
   "cell_type": "markdown",
   "metadata": {},
   "source": [
    "### Regular Expressions"
   ]
  },
  {
   "cell_type": "code",
   "execution_count": 6,
   "metadata": {
    "scrolled": true
   },
   "outputs": [
    {
     "name": "stdout",
     "output_type": "stream",
     "text": [
      "121\n",
      "[2, 19, 42, 10, 48]\n"
     ]
    }
   ],
   "source": [
    "import re\n",
    "x = 'My 2 favorite numbers are 19 and 42. It does not include 10 and 48'\n",
    "y = re.findall('[0-9]+', x)\n",
    "y = [int(i) for i in y]\n",
    "print(sum(y))\n",
    "print(y)"
   ]
  },
  {
   "cell_type": "markdown",
   "metadata": {},
   "source": [
    "### Networks"
   ]
  },
  {
   "cell_type": "code",
   "execution_count": 13,
   "metadata": {},
   "outputs": [
    {
     "ename": "gaierror",
     "evalue": "[Errno 11001] getaddrinfo failed",
     "output_type": "error",
     "traceback": [
      "\u001b[1;31m---------------------------------------------------------------------------\u001b[0m",
      "\u001b[1;31mgaierror\u001b[0m                                  Traceback (most recent call last)",
      "\u001b[1;32m<ipython-input-13-576d234bde35>\u001b[0m in \u001b[0;36m<module>\u001b[1;34m\u001b[0m\n\u001b[0;32m      2\u001b[0m \u001b[1;32mimport\u001b[0m \u001b[0msocket\u001b[0m\u001b[1;33m\u001b[0m\u001b[1;33m\u001b[0m\u001b[0m\n\u001b[0;32m      3\u001b[0m \u001b[0mmysock\u001b[0m \u001b[1;33m=\u001b[0m \u001b[0msocket\u001b[0m\u001b[1;33m.\u001b[0m\u001b[0msocket\u001b[0m\u001b[1;33m(\u001b[0m\u001b[0msocket\u001b[0m\u001b[1;33m.\u001b[0m\u001b[0mAF_INET\u001b[0m\u001b[1;33m,\u001b[0m \u001b[0msocket\u001b[0m\u001b[1;33m.\u001b[0m\u001b[0mSOCK_STREAM\u001b[0m\u001b[1;33m)\u001b[0m\u001b[1;33m\u001b[0m\u001b[1;33m\u001b[0m\u001b[0m\n\u001b[1;32m----> 4\u001b[1;33m \u001b[0mmysock\u001b[0m\u001b[1;33m.\u001b[0m\u001b[0mconnect\u001b[0m\u001b[1;33m(\u001b[0m\u001b[1;33m(\u001b[0m\u001b[1;34m'dat.pr4e.org'\u001b[0m\u001b[1;33m,\u001b[0m \u001b[1;36m80\u001b[0m\u001b[1;33m)\u001b[0m\u001b[1;33m)\u001b[0m\u001b[1;33m\u001b[0m\u001b[1;33m\u001b[0m\u001b[0m\n\u001b[0m\u001b[0;32m      5\u001b[0m \u001b[0mcmd\u001b[0m \u001b[1;33m=\u001b[0m \u001b[1;34m'GET http://data.pr4e.org/romeo.txt HTTP/1.0\\r\\n\\r\\n'\u001b[0m\u001b[1;33m.\u001b[0m\u001b[0mencode\u001b[0m\u001b[1;33m(\u001b[0m\u001b[1;33m)\u001b[0m\u001b[1;33m\u001b[0m\u001b[1;33m\u001b[0m\u001b[0m\n\u001b[0;32m      6\u001b[0m \u001b[0mmysock\u001b[0m\u001b[1;33m.\u001b[0m\u001b[0msend\u001b[0m\u001b[1;33m(\u001b[0m\u001b[0mcmd\u001b[0m\u001b[1;33m)\u001b[0m\u001b[1;33m\u001b[0m\u001b[1;33m\u001b[0m\u001b[0m\n",
      "\u001b[1;31mgaierror\u001b[0m: [Errno 11001] getaddrinfo failed"
     ]
    }
   ],
   "source": [
    "# HTTP Request in Python\n",
    "import socket\n",
    "mysock = socket.socket(socket.AF_INET, socket.SOCK_STREAM)\n",
    "mysock.connect(('dat.pr4e.org', 80))\n",
    "cmd = 'GET http://data.pr4e.org/romeo.txt HTTP/1.0\\r\\n\\r\\n'.encode()\n",
    "mysock.send(cmd)\n",
    "\n",
    "while True:\n",
    "    data = mysock.recv(512)\n",
    "    if (len(data) < 1):\n",
    "        break\n",
    "    print(data.decode())\n",
    "mysock.close()"
   ]
  }
 ],
 "metadata": {
  "kernelspec": {
   "display_name": "Python 3.8.1 64-bit",
   "language": "python",
   "name": "python38164bit3f3e3f4298444f59ac4a2da49ab7ba9c"
  },
  "language_info": {
   "codemirror_mode": {
    "name": "ipython",
    "version": 3
   },
   "file_extension": ".py",
   "mimetype": "text/x-python",
   "name": "python",
   "nbconvert_exporter": "python",
   "pygments_lexer": "ipython3",
   "version": "3.8.1"
  }
 },
 "nbformat": 4,
 "nbformat_minor": 4
}
