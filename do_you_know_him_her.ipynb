{
 "cells": [
  {
   "cell_type": "code",
   "execution_count": 1,
   "metadata": {},
   "outputs": [
    {
     "name": "stdout",
     "output_type": "stream",
     "text": [
      "What is the favourite colour of your friend?>>> green\n",
      "You got it.\n",
      "What is the favourite food of your friend?>>> beans\n",
      "What is the favourite drink of your friend?>>> malt\n",
      "You got it.\n",
      "What is the favourite passtime of your friend?>>> singing\n",
      "You got it.\n",
      "What is the favourite subject of your friend?>>> english\n",
      "You got it.\n",
      "Who is the favourite artist of your friend?>>> tope\n",
      "Your friend is from which town?>>> ponyan\n",
      "You got it.\n",
      "What is your friend\"s middle name?>>> moses\n",
      "You got it.\n",
      "Which football club does your friend support?>>> chelsea\n",
      "Who manufactures your friend\"s phone?>>> techno\n",
      "You got it.\n",
      "Your score is 35 out of 50\n"
     ]
    }
   ],
   "source": [
    "with open('friends_pref.txt', 'rt') as file:\n",
    "    words = file.readlines()\n",
    "cw = []\n",
    "for word in words:\n",
    "    cw.append(word.strip('\\n').split(':'))\n",
    "\n",
    "colorf = cw[0][1]\n",
    "foodf = cw[1][1]\n",
    "drinkf = cw[2][1]\n",
    "hobbyf = cw[3][1]\n",
    "subjectf = cw[4][1]\n",
    "artistf = cw[5][1]\n",
    "townf = cw[6][1]\n",
    "mid_namef = cw[7][1]\n",
    "clubf = cw[8][1]\n",
    "phonef = cw[9][1]\n",
    "#try:\n",
    "quest_num = 10\n",
    "quest_count = 0\n",
    "score = 0\n",
    "\n",
    "color = input('What is the favourite colour of your friend?>>> ')\n",
    "quest_count += 1\n",
    "if color.lower() == colorf:\n",
    "    print('You got it.')\n",
    "    score += 5\n",
    "food = input('What is the favourite food of your friend?>>> ')\n",
    "quest_count += 1\n",
    "if food.lower() == foodf:\n",
    "    print('You got it.')\n",
    "    score += 5\n",
    "drink = input('What is the favourite drink of your friend?>>> ')\n",
    "quest_count += 1\n",
    "if drink.lower() == drinkf:\n",
    "    print('You got it.')\n",
    "    score += 5\n",
    "hobby = input('What is the favourite passtime of your friend?>>> ')\n",
    "quest_count += 1\n",
    "if hobby.lower() == hobbyf:\n",
    "    print('You got it.')\n",
    "    score += 5\n",
    "subject = input('What is the favourite subject of your friend?>>> ')\n",
    "quest_count += 1\n",
    "if subject.lower() == subjectf:\n",
    "    print('You got it.')\n",
    "    score += 5\n",
    "artist = input('Who is the favourite artist of your friend?>>> ')\n",
    "quest_count += 1\n",
    "if artist.lower() == artistf:\n",
    "    print('You got it.')\n",
    "    score += 5\n",
    "town = input('Your friend is from which town?>>> ')\n",
    "quest_count += 1\n",
    "if town.lower() == townf:\n",
    "    print('You got it.')\n",
    "    score += 5\n",
    "mid_name = input('What is your friend\"s middle name?>>> ')\n",
    "quest_count += 1\n",
    "if mid_name.lower() == mid_namef:\n",
    "    print('You got it.')\n",
    "    score += 5\n",
    "club = input('Which football club does your friend support?>>> ')\n",
    "quest_count += 1\n",
    "if club.lower() == clubf:\n",
    "    print('You got it.')\n",
    "    score += 5\n",
    "phone = input('Who manufactures your friend\"s phone?>>> ')\n",
    "quest_count += 1\n",
    "if phone.lower() == phonef:\n",
    "    print('You got it.')\n",
    "    score += 5\n",
    "if quest_count == quest_num:\n",
    "    print(f'Your score is {score} out of {quest_num * 5}')\n",
    "        "
   ]
  },
  {
   "cell_type": "code",
   "execution_count": 5,
   "metadata": {},
   "outputs": [
    {
     "name": "stdout",
     "output_type": "stream",
     "text": [
      "I want to sleep for 2 minutes.\n",
      "I am awake! Thank God!\n"
     ]
    }
   ],
   "source": [
    "import time\n",
    "print('I want to sleep for 2 minutes.')\n",
    "time.sleep(120)\n",
    "print('I am awake! Thank God!')"
   ]
  },
  {
   "cell_type": "code",
   "execution_count": null,
   "metadata": {},
   "outputs": [],
   "source": []
  }
 ],
 "metadata": {
  "kernelspec": {
   "display_name": "Python 3.8.1 64-bit",
   "language": "python",
   "name": "python38164bit3f3e3f4298444f59ac4a2da49ab7ba9c"
  },
  "language_info": {
   "codemirror_mode": {
    "name": "ipython",
    "version": 3
   },
   "file_extension": ".py",
   "mimetype": "text/x-python",
   "name": "python",
   "nbconvert_exporter": "python",
   "pygments_lexer": "ipython3",
   "version": "3.8.1"
  }
 },
 "nbformat": 4,
 "nbformat_minor": 4
}
