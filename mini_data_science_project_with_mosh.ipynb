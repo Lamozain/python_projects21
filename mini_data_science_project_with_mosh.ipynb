{
 "cells": [
  {
   "cell_type": "code",
   "execution_count": 10,
   "metadata": {},
   "outputs": [],
   "source": [
    "# Importing all necessary packages\n",
    "import numpy as np\n",
    "import random\n",
    "import pandas as pd\n",
    "from sklearn.tree import DecisionTreeClassifier\n",
    "from sklearn.model_selection import train_test_split\n",
    "from sklearn.metrics import accuracy_score\n",
    "#from sklearn.externals import joblib\n",
    "import pickle\n",
    "import joblib\n",
    "from sklearn import tree"
   ]
  },
  {
   "cell_type": "code",
   "execution_count": 11,
   "metadata": {},
   "outputs": [
    {
     "name": "stdout",
     "output_type": "stream",
     "text": [
      "The female loves Spiritual music and the male loves Highlife music with accuracy of 0.75\n"
     ]
    }
   ],
   "source": [
    "music_data = pd.read_csv('music_data.csv')\n",
    "# Separating the dataset into features, and label (predictor and predicted)\n",
    "X = music_data.drop(columns=['genre'])\n",
    "y = music_data['genre']\n",
    "# Creating a model which is an object of the DecisionTreeClassifier\n",
    "model = DecisionTreeClassifier()\n",
    "# Splitting the datasets into the training and testing datasets respectively \n",
    "# with 20 percent allocated for testing\n",
    "X_train, X_test, y_train, y_test = train_test_split(X, y, test_size=0.2)\n",
    "# Fitting the model on the training dataset\n",
    "model.fit(X_train, y_train)\n",
    "# Testing the model on the testing dataset\n",
    "predictions = model.predict(X_test)\n",
    "# Getting the accuracy of the model\n",
    "score = accuracy_score(y_test, predictions)\n",
    "# Giving an array to the model to predict\n",
    "predictions = model.predict([[99,0], [99, 1]])\n",
    "print(f'The female loves {predictions[0]} music and the male loves {predictions[1]} music with accuracy of {score}')"
   ]
  },
  {
   "cell_type": "code",
   "execution_count": 115,
   "metadata": {},
   "outputs": [
    {
     "data": {
      "text/plain": [
       "['music_recommendation.joblib']"
      ]
     },
     "execution_count": 115,
     "metadata": {},
     "output_type": "execute_result"
    }
   ],
   "source": [
    "# Saving the model\n",
    "joblib.dump(model, 'music_recommendation.joblib')"
   ]
  },
  {
   "cell_type": "code",
   "execution_count": 116,
   "metadata": {},
   "outputs": [],
   "source": [
    "# Loading the model\n",
    "#model1 = joblib.load('music_recommendation.joblib')"
   ]
  },
  {
   "cell_type": "code",
   "execution_count": 118,
   "metadata": {},
   "outputs": [
    {
     "name": "stdout",
     "output_type": "stream",
     "text": [
      "He loves Metal music\n"
     ]
    }
   ],
   "source": [
    "# Using the loaded model\n",
    "he_loves = model1.predict([[15,1]])\n",
    "print(f'He loves {he_loves[0]} music')"
   ]
  },
  {
   "cell_type": "code",
   "execution_count": 119,
   "metadata": {},
   "outputs": [],
   "source": [
    "# Visualizing the Decision Tree\n",
    "tree.export_graphviz(model, out_file='music-recommender.dot',\n",
    "                    feature_names=['age', 'gender'],\n",
    "                    class_names=sorted(y.unique()),\n",
    "                    label='all',\n",
    "                    rounded=True,\n",
    "                    filled=True)"
   ]
  },
  {
   "cell_type": "markdown",
   "metadata": {},
   "source": [
    "Music Recommendation App"
   ]
  },
  {
   "cell_type": "code",
   "execution_count": 37,
   "metadata": {},
   "outputs": [
    {
     "name": "stdout",
     "output_type": "stream",
     "text": [
      "Enter the sex of the candidate>>> female\n",
      "Enter the age of the candidate>>> 12\n",
      "The candidate loves Dance music\n"
     ]
    }
   ],
   "source": [
    "import joblib\n",
    "# Getting inputs\n",
    "sex = input('Enter the sex of the candidate>>> ').lower()\n",
    "age = input('Enter the age of the candidate>>> ')\n",
    "try:\n",
    "    age = int(age)\n",
    "    assert age > 0\n",
    "except:\n",
    "    print('Age should be in numbers and greater than zero')\n",
    "else:\n",
    "    sex_transform = {'female': 0, 'male': 1 }\n",
    "    sex = sex_transform[sex]\n",
    "    # Loading the model\n",
    "    model1 = joblib.load('music_recommendation.joblib')\n",
    "    prediction = model1.predict([[age, sex]])\n",
    "    print('The candidate loves {} music'.format(prediction[0]))"
   ]
  }
 ],
 "metadata": {
  "kernelspec": {
   "display_name": "Python 3.8.1 64-bit",
   "language": "python",
   "name": "python38164bit3f3e3f4298444f59ac4a2da49ab7ba9c"
  },
  "language_info": {
   "codemirror_mode": {
    "name": "ipython",
    "version": 3
   },
   "file_extension": ".py",
   "mimetype": "text/x-python",
   "name": "python",
   "nbconvert_exporter": "python",
   "pygments_lexer": "ipython3",
   "version": "3.8.1"
  }
 },
 "nbformat": 4,
 "nbformat_minor": 4
}
