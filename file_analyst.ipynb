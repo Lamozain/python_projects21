{
 "cells": [
  {
   "cell_type": "code",
   "execution_count": 50,
   "metadata": {},
   "outputs": [],
   "source": [
    "with open('student_score.txt', 'rt') as file:\n",
    "    stss = file.readlines()"
   ]
  },
  {
   "cell_type": "code",
   "execution_count": 51,
   "metadata": {},
   "outputs": [],
   "source": [
    "stss = [i.strip('\\n') for i in stss]\n",
    "stss = [i.split() for i in stss]"
   ]
  },
  {
   "cell_type": "code",
   "execution_count": 52,
   "metadata": {},
   "outputs": [
    {
     "data": {
      "text/plain": [
       "[['Amos', 'Oloye', '45'],\n",
       " ['Ijare', 'Iman', '34'],\n",
       " ['Ijay', 'Ijay', '35'],\n",
       " ['Amos', 'Idanre', '50'],\n",
       " ['Amos', 'Oloye', '45'],\n",
       " ['Ijare', 'Iman', '34']]"
      ]
     },
     "execution_count": 52,
     "metadata": {},
     "output_type": "execute_result"
    }
   ],
   "source": [
    "stss"
   ]
  },
  {
   "cell_type": "code",
   "execution_count": 53,
   "metadata": {},
   "outputs": [],
   "source": [
    "names = []\n",
    "scores = []\n",
    "for i in stss:\n",
    "    names.append([i[0],i[1]])\n",
    "    scores.append(i[2])\n",
    "scores = [int(i) for i in scores]\n",
    "#print(sum(scores))"
   ]
  },
  {
   "cell_type": "code",
   "execution_count": 54,
   "metadata": {},
   "outputs": [
    {
     "data": {
      "text/plain": [
       "(6, 6)"
      ]
     },
     "execution_count": 54,
     "metadata": {},
     "output_type": "execute_result"
    }
   ],
   "source": [
    "full_name = []\n",
    "for i in names:\n",
    "    full_name.append(i[0] + ' ' + i[1])\n",
    "full_name\n",
    "assert len(full_name) == len(scores)\n",
    "(len(full_name), len(scores))"
   ]
  },
  {
   "cell_type": "code",
   "execution_count": 61,
   "metadata": {},
   "outputs": [],
   "source": [
    "\n",
    "#for i,j in zip(full_name, scores  "
   ]
  }
 ],
 "metadata": {
  "kernelspec": {
   "display_name": "Python 3.8.1 64-bit",
   "language": "python",
   "name": "python38164bit3f3e3f4298444f59ac4a2da49ab7ba9c"
  },
  "language_info": {
   "codemirror_mode": {
    "name": "ipython",
    "version": 3
   },
   "file_extension": ".py",
   "mimetype": "text/x-python",
   "name": "python",
   "nbconvert_exporter": "python",
   "pygments_lexer": "ipython3",
   "version": "3.8.1"
  }
 },
 "nbformat": 4,
 "nbformat_minor": 4
}
